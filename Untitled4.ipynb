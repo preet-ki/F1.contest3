{
  "nbformat": 4,
  "nbformat_minor": 0,
  "metadata": {
    "colab": {
      "provenance": [],
      "authorship_tag": "ABX9TyM+Fi52WADqwM0le7Yuohd3",
      "include_colab_link": true
    },
    "kernelspec": {
      "name": "python3",
      "display_name": "Python 3"
    },
    "language_info": {
      "name": "python"
    }
  },
  "cells": [
    {
      "cell_type": "markdown",
      "metadata": {
        "id": "view-in-github",
        "colab_type": "text"
      },
      "source": [
        "<a href=\"https://colab.research.google.com/github/preet-ki/F1.contest3/blob/main/Untitled4.ipynb\" target=\"_parent\"><img src=\"https://colab.research.google.com/assets/colab-badge.svg\" alt=\"Open In Colab\"/></a>"
      ]
    },
    {
      "cell_type": "code",
      "source": [
        "pip install pypdf"
      ],
      "metadata": {
        "colab": {
          "base_uri": "https://localhost:8080/"
        },
        "id": "xWlSub-dm6Oq",
        "outputId": "03bc2c6d-e7ba-4f10-81c2-5f8cf192bdf1"
      },
      "execution_count": 9,
      "outputs": [
        {
          "output_type": "stream",
          "name": "stdout",
          "text": [
            "Requirement already satisfied: pypdf in /usr/local/lib/python3.10/dist-packages (4.3.1)\n",
            "Requirement already satisfied: typing_extensions>=4.0 in /usr/local/lib/python3.10/dist-packages (from pypdf) (4.12.2)\n"
          ]
        }
      ]
    },
    {
      "cell_type": "code",
      "source": [
        "from pypdf import PdfReader\n"
      ],
      "metadata": {
        "id": "fhoJRyYfnDfG"
      },
      "execution_count": 10,
      "outputs": []
    },
    {
      "cell_type": "code",
      "source": [
        "reader=PdfReader('/content/M.Tech2022-24-Detailed-Syllabus.pdf')"
      ],
      "metadata": {
        "id": "z9TOnAABnO0L"
      },
      "execution_count": 11,
      "outputs": []
    },
    {
      "cell_type": "code",
      "source": [
        "print(len(reader.pages))"
      ],
      "metadata": {
        "colab": {
          "base_uri": "https://localhost:8080/"
        },
        "id": "k89HAXB9nbr6",
        "outputId": "dfd4ba7b-5a31-4c4d-ae20-51e5db2c51bd"
      },
      "execution_count": 12,
      "outputs": [
        {
          "output_type": "stream",
          "name": "stdout",
          "text": [
            "98\n"
          ]
        }
      ]
    },
    {
      "cell_type": "code",
      "source": [
        "page=reader.pages[2]\n",
        "print(page.extract_text())"
      ],
      "metadata": {
        "colab": {
          "base_uri": "https://localhost:8080/"
        },
        "collapsed": true,
        "id": "P3Tj3VUGniRH",
        "outputId": "0a315d71-7903-4d63-ed69-5c82b269443f"
      },
      "execution_count": 16,
      "outputs": [
        {
          "output_type": "stream",
          "name": "stdout",
          "text": [
            "CSET501 - Advanced Data Structur es using Python\n",
            "Course T ype - Cor e L-T -P Format 3-1-4 Cr edits - 6\n",
            "COURSE SUMMARY\n",
            "To learn the advanced concepts of data structures and their implementation in python. The course has the main ingredients required for a computer science graduate and\n",
            "has all the necessary topics for assessment of advanced data structures.\n",
            "COURSE-SPECIFIC LEARNING OUTCOMES (CO)\n",
            "CO1: Articulate the design, use, and associated algorithms of advanced data structures.\n",
            "CO2: Examine various advanced searching and sorting techniques based on applicative solutions.\n",
            "CO3: Demonstrate hands-on experience in implementing different advanced data structures.\n",
            "CO4: Build optimized solutions for real-world programming problems using efficient data structures.\n",
            "Detailed Syllabus\n",
            "Module 1 (Contact hours: 10)\n",
            "Why Data Structures, First Python Program, Execution Cycle of Python Program, OOPs Concepts, Python Inheritance, Multiple inheritances, Friend Function, Run-\n",
            "time Polymorphism, Time Complexity: Asymptotic Analysis, Big-Omega, Big-Theta, Big-Oh Notation, Handling Arrays, Insertion, Deletion, Traversal, Linear Search,\n",
            "Recursion, Binary Search, Tower of Hanoi, Sorting, Bubble Sort, Selection Sort, Insertion Sort, Merge Sort, Shell Sort, Counting Sort.\n",
            "Module 2 (Contact hours: 9)\n",
            "Python Pointers, Structures and Unions, Linked List, Singly Linked List Implementation, Singly Linked List Traversal, Searching, Insertion, Deletion, Polynomial\n",
            "Handling, Circular Linked List, Traversal, Insertion, Deletion, Stacks, Traversal, Insertion, Deletion, Infix to Postfix Conversion, Post-fix Expression Evaluation,\n",
            "Queues, Simple Queue Insertion, Deletion, Traversal, Circular Queue Insertion, Deletion, Traversal.\n",
            "Module 3 (Contact hours: 12)\n",
            "Tree Data Structures, Height, Complete, Full, Perfect Trees, Binary Search Trees, Pre-Order, In-Order, Post-Order, BST Searching, BST Insertion, BST Deletion,\n",
            "Heaps, Min-Max Heaps, HeapSort, Hashing, Hash Functions, Hash Tables, Hashing Collision Resolution Strategies: Separate Chaining, Open Addressing, Double\n",
            "Hashing, Graphs, Different Types of Graphs, Graphs Representations, Incidence Matrix, Adjacency Matrix, Graphs Traversals: BFS, DFS, Topological Sort. Priority\n",
            "Queues using Heaps; Implementation Problems on Hashing.\n",
            "Module 4 (Contact hours: 1 1)\n",
            "Height Balanced Trees: AVL Trees, Balanced Factor, Rotations, Insertion, Deletion, Red-Black Trees, Insertion, Deletion, B Trees, Insertion, Deletion, B+ Trees,\n",
            "Insertion, Deletion, Disjoint Sets, Path Compression, Union Finding Algorithm, van Emde Boas Tree.\n",
            "STUDIO WORK / LABORATORY EXPERIMENTS:\n",
            "The lab component of this course is designed to introduce online-coding tools to the students and provide hands-on experience with the concepts taught in the lectures.\n",
            "TEXTBOOKS/LEARNING RESOURCES:\n",
            "a) Rachel Xin, Tony Lee, Elisabeth Feng, Data Structures and Advanced Algorithms  (1 ed.), Lulu.com, 2020. ISBN 9781716675522.\n",
            "b) Shriram K. Vasudevan, Abhishek S. Nagarajan, Karthick Nanmaran, Data Structures using Python  (1 ed.), Oxford University Press, 2020. ISBN 9780190124083,\n",
            "0190124083.\n",
            "REFERENCE BOOKS/LEARNING RESOURCES:\n",
            "a) Christoph Dürr, Jill-Jênn Vie, Competitive Programming in Python  (1 ed.), Cambridge University Press, 2020. ISBN 9781108716826, 1108716822.st\n",
            "st\n",
            "st\n"
          ]
        }
      ]
    }
  ]
}